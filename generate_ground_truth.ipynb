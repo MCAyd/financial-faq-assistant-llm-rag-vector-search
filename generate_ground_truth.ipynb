{
 "cells": [
  {
   "cell_type": "code",
   "execution_count": 1,
   "metadata": {},
   "outputs": [],
   "source": [
    "from datasets import load_dataset\n",
    "from dotenv import load_dotenv\n",
    "from tqdm import tqdm\n",
    "import os\n",
    "import random\n",
    "import json\n",
    "import pandas as pd\n",
    "import hashlib\n",
    "from openai import OpenAI\n",
    "from concurrent.futures import ThreadPoolExecutor\n",
    "\n",
    "from datasets import load_dataset\n",
    "\n",
    "ds = load_dataset(\"virattt/financial-qa-10K\")\n",
    "\n",
    "client = OpenAI()\n",
    "API_KEY = os.getenv(\"OPENAI_API_KEY\")"
   ]
  },
  {
   "cell_type": "code",
   "execution_count": 2,
   "metadata": {},
   "outputs": [
    {
     "data": {
      "text/plain": [
       "{'question': 'How does the company support multi-billion-dollar end markets with their technology?',\n",
       " 'answer': 'The company supports multi-billion-dollar end markets by using a variety of software stacks developed either internally or by third-party developers and partners, utilizing a shared underlying technology across all these markets.',\n",
       " 'context': 'investments in research and development: we can support several multi-billion-dollar end markets with shared underlying technology by using a variety of software stacks developed either internally or by third-party developers and partners. We utilize this platform approach in each of our target markets.',\n",
       " 'ticker': 'NVDA',\n",
       " 'filing': '2023_10K'}"
      ]
     },
     "execution_count": 2,
     "metadata": {},
     "output_type": "execute_result"
    }
   ],
   "source": [
    "ds['train'][20]"
   ]
  },
  {
   "cell_type": "code",
   "execution_count": 3,
   "metadata": {},
   "outputs": [],
   "source": [
    "def generate_document_id(doc):\n",
    "    combined = f\"{doc['question']}-{doc['context'][:10]}\"\n",
    "    hash_object = hashlib.md5(combined.encode())\n",
    "    hash_hex = hash_object.hexdigest()\n",
    "    document_id = hash_hex[:8]\n",
    "    return document_id"
   ]
  },
  {
   "cell_type": "code",
   "execution_count": 4,
   "metadata": {},
   "outputs": [],
   "source": [
    "documents = []\n",
    "\n",
    "for doc in ds['train']:\n",
    "    doc_id = generate_document_id(doc)\n",
    "    doc_final = {'question': doc['question'],\n",
    "                 'context': doc['answer'],\n",
    "                 'company_id': doc['ticker'],\n",
    "                 'doc_id': doc_id\n",
    "                 }\n",
    "\n",
    "    documents.append(doc_final)"
   ]
  },
  {
   "cell_type": "code",
   "execution_count": 5,
   "metadata": {},
   "outputs": [
    {
     "data": {
      "text/plain": [
       "{'question': 'How does the company support multi-billion-dollar end markets with their technology?',\n",
       " 'context': 'The company supports multi-billion-dollar end markets by using a variety of software stacks developed either internally or by third-party developers and partners, utilizing a shared underlying technology across all these markets.',\n",
       " 'company_id': 'NVDA',\n",
       " 'doc_id': '3a0e16eb'}"
      ]
     },
     "execution_count": 5,
     "metadata": {},
     "output_type": "execute_result"
    }
   ],
   "source": [
    "documents[20]"
   ]
  },
  {
   "cell_type": "code",
   "execution_count": 6,
   "metadata": {},
   "outputs": [],
   "source": [
    "with open('documents-with-ids.json', 'wt') as f_out:\n",
    "    json.dump(documents, f_out, indent=2)"
   ]
  },
  {
   "cell_type": "markdown",
   "metadata": {},
   "source": [
    "## GENERATING GROUND TRUTH DATA"
   ]
  },
  {
   "cell_type": "code",
   "execution_count": 7,
   "metadata": {},
   "outputs": [],
   "source": [
    "prompt_template = \"\"\"\n",
    "You emulate someone who is asking financial questions. \n",
    "Based on the following original question and the specified company financial quote, generate 3 different but similar questions that a user might ask about the same topic.\n",
    "Questions generated should contain company original name not quote.\n",
    "\n",
    "ORIGINAL QUESTION: {question} \n",
    "COMPANY QUOTE: {company_id} \n",
    "\n",
    "Provide the output in parsable JSON format without using code blocks. Below is the right output format:\n",
    "\n",
    "[\"question1\", \"question2\", \"question3\"]\n",
    "\"\"\".strip()"
   ]
  },
  {
   "cell_type": "code",
   "execution_count": 8,
   "metadata": {},
   "outputs": [],
   "source": [
    "pool = ThreadPoolExecutor(max_workers=4)\n",
    "\n",
    "def map_progress(pool, seq, f):\n",
    "    results = []\n",
    "\n",
    "    with tqdm(total=len(seq)) as progress:\n",
    "        futures = []\n",
    "\n",
    "        for el in seq:\n",
    "            future = pool.submit(f, el)\n",
    "            future.add_done_callback(lambda p: progress.update())\n",
    "            futures.append(future)\n",
    "\n",
    "        for future in futures:\n",
    "            result = future.result()\n",
    "            results.append(result)\n",
    "\n",
    "    return results"
   ]
  },
  {
   "cell_type": "code",
   "execution_count": 9,
   "metadata": {},
   "outputs": [],
   "source": [
    "def generate_questions(doc):\n",
    "    prompt = prompt_template.format(**doc)\n",
    "\n",
    "    response = client.chat.completions.create(\n",
    "        model='gpt-3.5-turbo-1106',\n",
    "        messages=[{\"role\": \"user\", \"content\": prompt}]\n",
    "    )\n",
    "\n",
    "    json_response = response.choices[0].message.content\n",
    "    return json_response"
   ]
  },
  {
   "cell_type": "code",
   "execution_count": 10,
   "metadata": {},
   "outputs": [
    {
     "data": {
      "text/plain": [
       "'[\\n  \"How does NVIDIA support multi-billion-dollar end markets with their technology?\",\\n  \"What strategies does NVIDIA use to cater to multi-billion-dollar end markets with their technology?\",\\n  \"In what ways does NVIDIA\\'s technology benefit the multi-billion-dollar end markets they serve?\"\\n]'"
      ]
     },
     "execution_count": 10,
     "metadata": {},
     "output_type": "execute_result"
    }
   ],
   "source": [
    "generate_questions(documents[20])"
   ]
  },
  {
   "cell_type": "code",
   "execution_count": 11,
   "metadata": {},
   "outputs": [],
   "source": [
    "def process_record(rec):\n",
    "    response = generate_questions(rec)\n",
    "    \n",
    "    return response"
   ]
  },
  {
   "cell_type": "code",
   "execution_count": 12,
   "metadata": {},
   "outputs": [
    {
     "name": "stderr",
     "output_type": "stream",
     "text": [
      "100%|██████████| 7000/7000 [24:56<00:00,  4.68it/s]\n"
     ]
    }
   ],
   "source": [
    "ground_truth = map_progress(pool, documents, process_record)"
   ]
  },
  {
   "cell_type": "code",
   "execution_count": 13,
   "metadata": {},
   "outputs": [
    {
     "data": {
      "text/plain": [
       "'[\\n  \"How does NVIDIA support multi-billion-dollar end markets with their technology?\",\\n  \"What strategies has NVIDIA implemented to cater to multi-billion-dollar end markets?\",\\n  \"In what ways does NVIDIA\\'s technology contribute to the support of multi-billion-dollar end markets?\"\\n]'"
      ]
     },
     "execution_count": 13,
     "metadata": {},
     "output_type": "execute_result"
    }
   ],
   "source": [
    "ground_truth[20]"
   ]
  },
  {
   "cell_type": "code",
   "execution_count": 14,
   "metadata": {},
   "outputs": [
    {
     "name": "stdout",
     "output_type": "stream",
     "text": [
      "JSONDecodeError for document 7120441d: Invalid control character at: line 2 column 87 (char 88)\n",
      "JSONDecodeError for document e84c4698: Invalid control character at: line 2 column 62 (char 63)\n",
      "JSONDecodeError for document 5c34ee36: Expecting ',' delimiter: line 3 column 1 (char 97)\n",
      "JSONDecodeError for document 1fcddfae: Invalid control character at: line 2 column 142 (char 143)\n",
      "JSONDecodeError for document e8349985: Expecting ',' delimiter: line 3 column 1 (char 95)\n",
      "JSONDecodeError for document d61916b9: Expecting ',' delimiter: line 3 column 2 (char 109)\n",
      "JSONDecodeError for document 898f47e3: Invalid control character at: line 2 column 103 (char 104)\n",
      "JSONDecodeError for document 275f3aab: Invalid control character at: line 2 column 103 (char 104)\n",
      "JSONDecodeError for document 58a62b30: Expecting ',' delimiter: line 3 column 1 (char 112)\n",
      "JSONDecodeError for document 0f2eb85b: Invalid control character at: line 2 column 68 (char 69)\n",
      "JSONDecodeError for document b03e0570: Expecting ',' delimiter: line 3 column 1 (char 76)\n",
      "JSONDecodeError for document a5dcf177: Invalid control character at: line 2 column 88 (char 89)\n",
      "JSONDecodeError for document d77078c9: Expecting ',' delimiter: line 3 column 1 (char 83)\n",
      "JSONDecodeError for document dd04b181: Invalid control character at: line 2 column 61 (char 62)\n",
      "JSONDecodeError for document cc13ffdc: Invalid control character at: line 2 column 67 (char 68)\n",
      "JSONDecodeError for document ceb73cb7: Invalid control character at: line 2 column 82 (char 83)\n",
      "JSONDecodeError for document 09925079: Expecting ',' delimiter: line 3 column 1 (char 57)\n",
      "JSONDecodeError for document f02689a9: Expecting ',' delimiter: line 3 column 2 (char 129)\n",
      "JSONDecodeError for document d53489fe: Invalid control character at: line 2 column 130 (char 131)\n",
      "JSONDecodeError for document c10865d0: Expecting ',' delimiter: line 3 column 1 (char 157)\n",
      "JSONDecodeError for document 7933a194: Invalid control character at: line 2 column 81 (char 82)\n",
      "JSONDecodeError for document 861d06d2: Extra data: line 2 column 1 (char 144)\n",
      "JSONDecodeError for document 37495c11: Invalid control character at: line 2 column 111 (char 112)\n",
      "JSONDecodeError for document c4477ebc: Expecting ',' delimiter: line 3 column 1 (char 104)\n",
      "JSONDecodeError for document 30fc369b: Expecting ',' delimiter: line 3 column 1 (char 101)\n",
      "JSONDecodeError for document 30510576: Invalid control character at: line 2 column 147 (char 148)\n",
      "JSONDecodeError for document b56b7d23: Expecting ',' delimiter: line 3 column 1 (char 163)\n",
      "JSONDecodeError for document 710f357c: Invalid control character at: line 2 column 99 (char 100)\n",
      "JSONDecodeError for document 5da8942d: Invalid control character at: line 2 column 120 (char 121)\n",
      "JSONDecodeError for document 024dc31b: Extra data: line 1 column 2 (char 1)\n",
      "JSONDecodeError for document fba8a9a0: Invalid control character at: line 2 column 114 (char 115)\n",
      "JSONDecodeError for document 71d687b7: Invalid control character at: line 2 column 60 (char 61)\n",
      "JSONDecodeError for document 860cd82d: Expecting ',' delimiter: line 3 column 1 (char 79)\n",
      "JSONDecodeError for document 773d3c29: Invalid control character at: line 2 column 184 (char 185)\n",
      "JSONDecodeError for document 394f1673: Invalid control character at: line 2 column 70 (char 71)\n",
      "JSONDecodeError for document 29a5bba4: Invalid control character at: line 2 column 120 (char 121)\n",
      "JSONDecodeError for document 357a9b83: Invalid control character at: line 2 column 113 (char 114)\n",
      "JSONDecodeError for document 7b7b869b: Invalid control character at: line 2 column 120 (char 121)\n",
      "JSONDecodeError for document 63993cee: Invalid control character at: line 2 column 99 (char 100)\n",
      "JSONDecodeError for document ab9fd7dc: Extra data: line 1 column 2 (char 1)\n",
      "JSONDecodeError for document 9d163392: Invalid control character at: line 2 column 113 (char 114)\n",
      "JSONDecodeError for document f8fe6c99: Invalid control character at: line 2 column 92 (char 93)\n",
      "JSONDecodeError for document f6c0bd32: Extra data: line 2 column 1 (char 87)\n",
      "JSONDecodeError for document d197e95f: Invalid control character at: line 2 column 115 (char 116)\n",
      "JSONDecodeError for document b467fb52: Invalid control character at: line 2 column 81 (char 82)\n",
      "JSONDecodeError for document cff19e84: Invalid control character at: line 2 column 109 (char 110)\n",
      "JSONDecodeError for document 912bc4bb: Expecting ',' delimiter: line 3 column 1 (char 112)\n",
      "JSONDecodeError for document 725c2ead: Expecting ',' delimiter: line 3 column 1 (char 72)\n",
      "JSONDecodeError for document 1ef9e017: Invalid control character at: line 2 column 102 (char 103)\n",
      "JSONDecodeError for document 81bf0f77: Invalid control character at: line 2 column 71 (char 72)\n",
      "JSONDecodeError for document 9a94aa64: Invalid control character at: line 2 column 120 (char 121)\n",
      "JSONDecodeError for document 520a1194: Expecting ',' delimiter: line 3 column 1 (char 91)\n",
      "JSONDecodeError for document 47e01fd5: Invalid control character at: line 2 column 90 (char 91)\n",
      "JSONDecodeError for document a83c2e6b: Invalid control character at: line 2 column 87 (char 88)\n",
      "JSONDecodeError for document 9c3862bc: Expecting ',' delimiter: line 3 column 1 (char 124)\n",
      "JSONDecodeError for document 91fe4681: Expecting ',' delimiter: line 3 column 2 (char 128)\n",
      "JSONDecodeError for document bba6780f: Invalid control character at: line 2 column 112 (char 113)\n",
      "JSONDecodeError for document 458db69e: Invalid control character at: line 2 column 86 (char 87)\n",
      "JSONDecodeError for document 968fb0b7: Invalid control character at: line 2 column 143 (char 144)\n",
      "JSONDecodeError for document adadb946: Invalid control character at: line 2 column 137 (char 138)\n",
      "JSONDecodeError for document 7b40d333: Expecting ',' delimiter: line 4 column 1 (char 222)\n",
      "JSONDecodeError for document 1609b4d1: Invalid control character at: line 2 column 105 (char 106)\n",
      "JSONDecodeError for document 18c6847e: Expecting ',' delimiter: line 3 column 1 (char 119)\n",
      "JSONDecodeError for document 9c601368: Expecting ',' delimiter: line 3 column 1 (char 128)\n",
      "JSONDecodeError for document 3806cd57: Invalid control character at: line 4 column 67 (char 190)\n",
      "JSONDecodeError for document 543f92ed: Invalid control character at: line 2 column 77 (char 78)\n",
      "JSONDecodeError for document 24273fd3: Expecting ',' delimiter: line 3 column 1 (char 138)\n",
      "JSONDecodeError for document e90aaaec: Invalid control character at: line 2 column 61 (char 62)\n",
      "JSONDecodeError for document da89096c: Expecting ',' delimiter: line 3 column 1 (char 146)\n",
      "JSONDecodeError for document 3094d1f3: Invalid control character at: line 2 column 108 (char 109)\n",
      "JSONDecodeError for document 746ef625: Invalid control character at: line 2 column 113 (char 114)\n",
      "JSONDecodeError for document 0400e749: Invalid control character at: line 2 column 83 (char 84)\n",
      "JSONDecodeError for document 8d74a15c: Expecting ',' delimiter: line 3 column 2 (char 99)\n",
      "JSONDecodeError for document da83be9e: Expecting ',' delimiter: line 3 column 1 (char 98)\n",
      "JSONDecodeError for document 866e0db9: Invalid control character at: line 2 column 103 (char 104)\n",
      "JSONDecodeError for document fd84d528: Invalid control character at: line 2 column 75 (char 76)\n",
      "JSONDecodeError for document 4d4b9788: Invalid control character at: line 2 column 60 (char 61)\n",
      "JSONDecodeError for document bce39901: Expecting ',' delimiter: line 3 column 1 (char 72)\n",
      "JSONDecodeError for document 5b4099ae: Invalid control character at: line 2 column 89 (char 90)\n",
      "JSONDecodeError for document 00f3a726: Expecting ',' delimiter: line 3 column 1 (char 120)\n",
      "JSONDecodeError for document c3baf3c3: Invalid control character at: line 2 column 86 (char 87)\n",
      "JSONDecodeError for document ecea0434: Invalid control character at: line 2 column 139 (char 140)\n",
      "JSONDecodeError for document 7ac1578a: Expecting ',' delimiter: line 3 column 2 (char 91)\n",
      "JSONDecodeError for document 2b792cbf: Expecting ',' delimiter: line 3 column 1 (char 114)\n",
      "JSONDecodeError for document 58646190: Invalid control character at: line 2 column 161 (char 162)\n",
      "JSONDecodeError for document cd68b64d: Expecting ',' delimiter: line 3 column 2 (char 98)\n",
      "JSONDecodeError for document 30b27aa0: Expecting ',' delimiter: line 3 column 1 (char 94)\n",
      "JSONDecodeError for document c2925857: Invalid control character at: line 2 column 138 (char 139)\n",
      "JSONDecodeError for document ae4b271c: Expecting ',' delimiter: line 3 column 1 (char 124)\n",
      "JSONDecodeError for document f3495025: Invalid control character at: line 2 column 95 (char 96)\n",
      "JSONDecodeError for document c246b427: Expecting ',' delimiter: line 3 column 1 (char 95)\n",
      "JSONDecodeError for document dcee5856: Invalid control character at: line 2 column 101 (char 102)\n",
      "JSONDecodeError for document 251bf02d: Invalid control character at: line 2 column 80 (char 81)\n",
      "JSONDecodeError for document e1f79817: Invalid control character at: line 2 column 82 (char 83)\n",
      "JSONDecodeError for document b814a298: Expecting ',' delimiter: line 3 column 1 (char 132)\n",
      "JSONDecodeError for document 1c90de23: Expecting ',' delimiter: line 3 column 1 (char 132)\n",
      "JSONDecodeError for document b830525d: Expecting ',' delimiter: line 3 column 1 (char 107)\n",
      "JSONDecodeError for document 6c1560a1: Expecting ',' delimiter: line 3 column 1 (char 68)\n",
      "JSONDecodeError for document fb67068a: Invalid control character at: line 2 column 58 (char 59)\n",
      "JSONDecodeError for document f8cc113e: Invalid control character at: line 2 column 80 (char 81)\n",
      "JSONDecodeError for document ddbba680: Invalid control character at: line 2 column 116 (char 117)\n",
      "JSONDecodeError for document 2972516a: Invalid control character at: line 2 column 95 (char 96)\n",
      "JSONDecodeError for document 83af7c4d: Invalid control character at: line 2 column 78 (char 79)\n",
      "JSONDecodeError for document 970aa334: Invalid control character at: line 2 column 73 (char 74)\n",
      "JSONDecodeError for document 6256c862: Invalid control character at: line 2 column 87 (char 88)\n",
      "JSONDecodeError for document c5e2f668: Extra data: line 1 column 2 (char 1)\n",
      "JSONDecodeError for document 866b1b5c: Extra data: line 1 column 2 (char 1)\n",
      "JSONDecodeError for document 8f7b8dde: Expecting ',' delimiter: line 3 column 1 (char 100)\n",
      "JSONDecodeError for document 2443b1f9: Invalid control character at: line 2 column 99 (char 100)\n",
      "JSONDecodeError for document ff920a02: Expecting value: line 4 column 70 (char 324)\n",
      "JSONDecodeError for document 7726d8f7: Invalid control character at: line 2 column 73 (char 74)\n",
      "JSONDecodeError for document 84f5c54e: Invalid control character at: line 2 column 89 (char 90)\n",
      "JSONDecodeError for document 706be9fa: Expecting ',' delimiter: line 3 column 2 (char 121)\n",
      "JSONDecodeError for document 0259b5b3: Expecting ',' delimiter: line 2 column 43 (char 44)\n",
      "JSONDecodeError for document ac8a026b: Invalid control character at: line 2 column 130 (char 131)\n",
      "JSONDecodeError for document 8aec3e9a: Expecting ',' delimiter: line 3 column 1 (char 74)\n",
      "JSONDecodeError for document fb08de12: Expecting ',' delimiter: line 3 column 1 (char 100)\n",
      "JSONDecodeError for document 8e50695b: Invalid control character at: line 2 column 113 (char 114)\n",
      "JSONDecodeError for document 135baf60: Expecting ',' delimiter: line 3 column 1 (char 112)\n",
      "JSONDecodeError for document ea3c9ee0: Invalid control character at: line 2 column 108 (char 109)\n",
      "JSONDecodeError for document c997e374: Expecting ',' delimiter: line 3 column 1 (char 92)\n",
      "JSONDecodeError for document d04bc0bc: Expecting ',' delimiter: line 3 column 3 (char 65)\n",
      "JSONDecodeError for document 934e8105: Expecting ',' delimiter: line 3 column 1 (char 139)\n",
      "JSONDecodeError for document 10227362: Expecting ',' delimiter: line 3 column 1 (char 74)\n",
      "JSONDecodeError for document 908c3687: Invalid control character at: line 2 column 79 (char 80)\n",
      "JSONDecodeError for document 2595453b: Invalid control character at: line 2 column 73 (char 74)\n",
      "JSONDecodeError for document 1f419c76: Invalid control character at: line 2 column 124 (char 125)\n",
      "JSONDecodeError for document 1d235558: Expecting ',' delimiter: line 2 column 1 (char 85)\n",
      "JSONDecodeError for document 4420609e: Invalid control character at: line 2 column 105 (char 106)\n",
      "JSONDecodeError for document cbe68e1d: Invalid control character at: line 2 column 97 (char 98)\n",
      "JSONDecodeError for document c02dc997: Invalid control character at: line 2 column 91 (char 92)\n",
      "JSONDecodeError for document 8af0fbd8: Expecting ',' delimiter: line 3 column 2 (char 69)\n",
      "JSONDecodeError for document 1da3692c: Extra data: line 2 column 1 (char 96)\n",
      "JSONDecodeError for document b4ea1342: Expecting ',' delimiter: line 3 column 1 (char 71)\n",
      "JSONDecodeError for document 64e1e2b1: Invalid control character at: line 2 column 81 (char 82)\n",
      "JSONDecodeError for document df5372d0: Invalid control character at: line 2 column 129 (char 130)\n",
      "JSONDecodeError for document 1902429d: Invalid control character at: line 2 column 174 (char 175)\n",
      "JSONDecodeError for document fa4124a2: Expecting ',' delimiter: line 4 column 2 (char 214)\n",
      "JSONDecodeError for document bec076dd: Expecting ',' delimiter: line 3 column 1 (char 57)\n",
      "JSONDecodeError for document 33bd917d: Invalid control character at: line 2 column 95 (char 96)\n",
      "JSONDecodeError for document ac26169e: Expecting ',' delimiter: line 3 column 1 (char 81)\n",
      "JSONDecodeError for document 5d62b784: Extra data: line 2 column 1 (char 114)\n",
      "JSONDecodeError for document 56f5ec2a: Extra data: line 1 column 2 (char 1)\n",
      "JSONDecodeError for document 92e3b46f: Expecting ',' delimiter: line 3 column 1 (char 93)\n",
      "JSONDecodeError for document c62f803f: Expecting ',' delimiter: line 3 column 1 (char 111)\n",
      "JSONDecodeError for document e009e0e5: Expecting ',' delimiter: line 1 column 166 (char 165)\n",
      "JSONDecodeError for document 0ebee86d: Expecting ',' delimiter: line 3 column 1 (char 96)\n",
      "JSONDecodeError for document ddb61e01: Expecting ',' delimiter: line 3 column 1 (char 114)\n",
      "JSONDecodeError for document 401daaaa: Invalid control character at: line 2 column 119 (char 120)\n",
      "JSONDecodeError for document da2248e7: Invalid control character at: line 2 column 106 (char 107)\n",
      "JSONDecodeError for document 5beb1cba: Invalid control character at: line 2 column 80 (char 81)\n",
      "JSONDecodeError for document 4ed270b3: Expecting ',' delimiter: line 3 column 1 (char 112)\n",
      "JSONDecodeError for document 1412b075: Expecting ',' delimiter: line 2 column 1 (char 97)\n",
      "JSONDecodeError for document 60c3e2ef: Expecting ',' delimiter: line 3 column 1 (char 110)\n",
      "JSONDecodeError for document ab958e1e: Expecting ',' delimiter: line 2 column 24 (char 25)\n",
      "JSONDecodeError for document c4b95cfd: Expecting ',' delimiter: line 3 column 2 (char 56)\n",
      "JSONDecodeError for document ed270b4e: Invalid control character at: line 2 column 64 (char 65)\n",
      "JSONDecodeError for document a7014e48: Invalid control character at: line 2 column 80 (char 81)\n",
      "JSONDecodeError for document 4a4890b2: Invalid control character at: line 4 column 148 (char 386)\n",
      "JSONDecodeError for document bf7d60a7: Invalid control character at: line 2 column 129 (char 130)\n"
     ]
    }
   ],
   "source": [
    "final_results = []\n",
    "\n",
    "for i, questions in enumerate(ground_truth):\n",
    "    company_id = documents[i]['company_id']\n",
    "    doc_id = documents[i]['doc_id']\n",
    "    \n",
    "    try:\n",
    "        question_list = json.loads(questions)\n",
    "\n",
    "        # if list\n",
    "        if isinstance(question_list, list):\n",
    "            for q in question_list:\n",
    "                if isinstance(q,str) :\n",
    "                    final_results.append((q, company_id, doc_id))\n",
    "                else:\n",
    "                    q = list(q.values())\n",
    "                    final_results.append((q[0], company_id, doc_id))\n",
    "        \n",
    "        # if dictionary\n",
    "        else:\n",
    "            for key, q in question_list.items():\n",
    "                final_results.append((q, company_id, doc_id))\n",
    "    \n",
    "    except json.JSONDecodeError as e:\n",
    "        print(f\"JSONDecodeError for document {doc_id}: {e}\")\n",
    "        continue"
   ]
  },
  {
   "cell_type": "code",
   "execution_count": 19,
   "metadata": {},
   "outputs": [
    {
     "data": {
      "text/plain": [
       "20522"
      ]
     },
     "execution_count": 19,
     "metadata": {},
     "output_type": "execute_result"
    }
   ],
   "source": [
    "len(final_results)"
   ]
  },
  {
   "cell_type": "code",
   "execution_count": 15,
   "metadata": {},
   "outputs": [
    {
     "data": {
      "text/plain": [
       "[(\"What is NVIDIA's primary focus before expanding into other computationally intensive fields?\",\n",
       "  'NVDA',\n",
       "  '30179b8e'),\n",
       " (\"Can you explain NVIDIA's initial area of focus before diversifying into other computationally intensive sectors?\",\n",
       "  'NVDA',\n",
       "  '30179b8e'),\n",
       " (\"Before branching out into other computationally intensive areas, what was NVIDIA's main area of focus?\",\n",
       "  'NVDA',\n",
       "  '30179b8e'),\n",
       " ('What impact has NVDA seen from the recent applications of GPU-powered deep learning?',\n",
       "  'NVDA',\n",
       "  'bbc176db'),\n",
       " ('Can NVDA provide more information on the specific industries or fields that have implemented GPU-powered deep learning?',\n",
       "  'NVDA',\n",
       "  'bbc176db')]"
      ]
     },
     "execution_count": 15,
     "metadata": {},
     "output_type": "execute_result"
    }
   ],
   "source": [
    "final_results[0:5]"
   ]
  },
  {
   "cell_type": "code",
   "execution_count": 17,
   "metadata": {},
   "outputs": [],
   "source": [
    "df = pd.DataFrame(final_results, columns=['question', 'company_id', 'document_id'])\n",
    "df.to_csv('ground-truth-data.csv', index=False)"
   ]
  },
  {
   "cell_type": "code",
   "execution_count": 18,
   "metadata": {},
   "outputs": [
    {
     "name": "stdout",
     "output_type": "stream",
     "text": [
      "question,company_id,document_id\n",
      "What is NVIDIA's primary focus before expanding into other computationally intensive fields?,NVDA,30179b8e\n",
      "Can you explain NVIDIA's initial area of focus before diversifying into other computationally intensive sectors?,NVDA,30179b8e\n",
      "\"Before branching out into other computationally intensive areas, what was NVIDIA's main area of focus?\",NVDA,30179b8e\n",
      "What impact has NVDA seen from the recent applications of GPU-powered deep learning?,NVDA,bbc176db\n",
      "Can NVDA provide more information on the specific industries or fields that have implemented GPU-powered deep learning?,NVDA,bbc176db\n",
      "How do the recent applications of GPU-powered deep learning by NVDA contribute to their overall financial performance?,NVDA,bbc176db\n",
      "What is NVIDIA's current revenue and growth rate?,NVDA,c560a6ad\n",
      "Can you explain NVIDIA's debt-to-equity ratio and how it impacts the company?,NVDA,c560a6ad\n",
      "What are NVIDIA's plans for future capital expenditures and how will it affect their financial performance?,NVDA,c560a6ad\n"
     ]
    }
   ],
   "source": [
    "!head ground-truth-data.csv"
   ]
  }
 ],
 "metadata": {
  "kernelspec": {
   "display_name": "llm-env",
   "language": "python",
   "name": "python3"
  },
  "language_info": {
   "codemirror_mode": {
    "name": "ipython",
    "version": 3
   },
   "file_extension": ".py",
   "mimetype": "text/x-python",
   "name": "python",
   "nbconvert_exporter": "python",
   "pygments_lexer": "ipython3",
   "version": "3.10.13"
  }
 },
 "nbformat": 4,
 "nbformat_minor": 2
}
